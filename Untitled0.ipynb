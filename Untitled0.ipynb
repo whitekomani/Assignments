{
  "nbformat": 4,
  "nbformat_minor": 0,
  "metadata": {
    "colab": {
      "name": "Untitled0.ipynb",
      "provenance": [],
      "collapsed_sections": []
    },
    "kernelspec": {
      "name": "python3",
      "display_name": "Python 3"
    },
    "language_info": {
      "name": "python"
    }
  },
  "cells": [
    {
      "cell_type": "markdown",
      "metadata": {
        "id": "YleNnWk9Vviz"
      },
      "source": [
        "MNIST의 데이터를 불러와 홀수인지 짝수인지 판별하는 모델을 만드는 코드입니다."
      ]
    },
    {
      "cell_type": "code",
      "metadata": {
        "id": "viQtCWk1Vi4E"
      },
      "source": [
        "import numpy as np\n",
        "import tensorflow as tf\n",
        "from IPython.display import Image\n",
        "import matplotlib.pyplot as plt\n"
      ],
      "execution_count": null,
      "outputs": []
    },
    {
      "cell_type": "code",
      "metadata": {
        "colab": {
          "base_uri": "https://localhost:8080/"
        },
        "id": "wM5EqnRdWCYo",
        "outputId": "1c86afe7-bd77-4dcb-e3d5-58f16918fb8a"
      },
      "source": [
        "tf.random.set_seed(100) #데이터를 무작위로 가져오는 부분이 실행마다 무작위로 가져오지 않게 SEED를 고정합니다.(수정x)\n",
        "#데이터 처리\n",
        "(x_train, y_train), (x_test, y_test) = tf.keras.datasets.mnist.load_data()\n",
        "(x_test, y_test)=(x_test[:200], y_test[:200])# 수정 x \n",
        "(x_train, y_train) = (x_train[:200], y_train[:200])\n"
      ],
      "execution_count": null,
      "outputs": [
        {
          "output_type": "stream",
          "text": [
            "Downloading data from https://storage.googleapis.com/tensorflow/tf-keras-datasets/mnist.npz\n",
            "11493376/11490434 [==============================] - 0s 0us/step\n"
          ],
          "name": "stdout"
        }
      ]
    },
    {
      "cell_type": "markdown",
      "metadata": {
        "id": "bom_nBYYWHrr"
      },
      "source": [
        "위의 코드는 수정하지 마세요"
      ]
    },
    {
      "cell_type": "code",
      "metadata": {
        "colab": {
          "base_uri": "https://localhost:8080/"
        },
        "id": "W3wAOf5AVtLH",
        "outputId": "2019f109-0334-49d1-8f99-323dcca13e07"
      },
      "source": [
        "print(y_test[:10]) #테스트 데이터 예시 출력\n",
        "x_train = x_train.astype('float32').reshape(-1, 28, 28, 1) #한번에 여러개를 입력하기 위해 행렬로 한번 더 감싸는 내용입니다.\n",
        "x_test = x_test.astype('float32').reshape(-1, 28, 28, 1) \n",
        "x_train = x_train / 255 \n",
        "x_test = x_test / 255\n",
        "\n",
        "y_train = y_train.reshape(-1, 1)\n",
        "y_test = y_test.reshape(-1, 1)\n",
        "y_train = y_train % 2\n",
        "y_test = y_test % 2 #홀수면 1 짝수면 0"
      ],
      "execution_count": null,
      "outputs": [
        {
          "output_type": "stream",
          "text": [
            "[7 2 1 0 4 1 4 9 5 9]\n"
          ],
          "name": "stdout"
        }
      ]
    },
    {
      "cell_type": "markdown",
      "metadata": {
        "id": "ZHzjfySsWbqv"
      },
      "source": [
        "tf.keras.models.Model을 상속받아 사용할 모델을 정의합니다.\n"
      ]
    },
    {
      "cell_type": "code",
      "metadata": {
        "colab": {
          "base_uri": "https://localhost:8080/"
        },
        "id": "DJx_sZjwWdrz",
        "outputId": "97da5fc2-e81e-4491-a1d2-cb221427493e"
      },
      "source": [
        "class MyModel(tf.keras.models.Model):\n",
        "    def __init__(self):\n",
        "        super().__init__()        \n",
        "        self.layer1 = tf.keras.layers.Flatten(input_shape=(28, 28)) #28x28의 이미지를 평평하게, 즉 784x1로 만들어 주는 레이어입니다\n",
        "        self.layer2 = tf.keras.layers.Dense(units=10, activation='relu') #10개의 값을 output하는 Dense Layer입니다. \n",
        "        self.layer3 = tf.keras.layers.Dense(units=1, activation='sigmoid') #마지막 출력하는 레이어로 1개의 값(홀수인지 짝수인지)를 출력합니다\n",
        "\n",
        "    def call(self, X, training=False):\n",
        "        net = self.layer1(X) #입력값을 layer1에 넣습니다(위의 flatten)\n",
        "        net = self.layer2(net) #layer1의 출력을 layer2에 넣습니다.(레이어를 추가할 경우 반복)\n",
        "        predictions = self.layer3(net)  #최종 출력은 layer3의 값입니다.\n",
        "        return predictions\n",
        "\n",
        "model = MyModel()\n",
        "model.build(input_shape=(None,28, 28, 1)) #모델을 사용하기 위해 build라는 과정을 거칩니다. GPU 메모리에 업로드 하는 등의 작업을 거칩니다\n",
        "model.summary() #모델의 구조를 출력"
      ],
      "execution_count": null,
      "outputs": [
        {
          "output_type": "stream",
          "text": [
            "Model: \"my_model\"\n",
            "_________________________________________________________________\n",
            "Layer (type)                 Output Shape              Param #   \n",
            "=================================================================\n",
            "flatten (Flatten)            multiple                  0         \n",
            "_________________________________________________________________\n",
            "dense (Dense)                multiple                  7850      \n",
            "_________________________________________________________________\n",
            "dense_1 (Dense)              multiple                  11        \n",
            "=================================================================\n",
            "Total params: 7,861\n",
            "Trainable params: 7,861\n",
            "Non-trainable params: 0\n",
            "_________________________________________________________________\n"
          ],
          "name": "stdout"
        }
      ]
    },
    {
      "cell_type": "markdown",
      "metadata": {
        "id": "1K1c0uBvWypC"
      },
      "source": [
        "학습을 위한 값들을 설정합니다."
      ]
    },
    {
      "cell_type": "code",
      "metadata": {
        "id": "hTFkESuRW4yA"
      },
      "source": [
        "loss = tf.keras.losses.BinaryCrossentropy() #이진분류를 위한 Crossentropy Loss function\n",
        "optimizer = tf.keras.optimizers.SGD(learning_rate=0.01) #optimizer는 SGD를 사용합니다.\n",
        "\n",
        "train_loss = tf.keras.metrics.Mean()   # Loss값 평균을 계산합니다. 이는 사용자에게 보여주기 위한 값입니다\n",
        "train_accuracy = tf.keras.metrics.Accuracy() \n",
        "test_loss = tf.keras.metrics.Mean()\n",
        "test_accuracy = tf.keras.metrics.Accuracy()"
      ],
      "execution_count": null,
      "outputs": []
    },
    {
      "cell_type": "markdown",
      "metadata": {
        "id": "la5vriNRW-M4"
      },
      "source": [
        "이제 정의된 내용을 통해 학습을 진행합니다."
      ]
    },
    {
      "cell_type": "code",
      "metadata": {
        "colab": {
          "base_uri": "https://localhost:8080/"
        },
        "id": "zM-f8u6YXBXr",
        "outputId": "9ef85840-8a5e-4759-e488-70a692dc8ce1"
      },
      "source": [
        "epochs = 50 #전체 데이터를 총 50번 볼 것입니다\n",
        "for epoch_index in range(epochs):\n",
        "    with tf.GradientTape() as tape:  #학습에 필요한 미분값을 자동으로 계산하는 모듈입니다\n",
        "        predictions = model(x_train, training=True)\n",
        "        loss_value = loss(y_train, predictions)\n",
        "    gradients = tape.gradient(loss_value, model.trainable_variables)\n",
        "    optimizer.apply_gradients(zip(gradients, model.trainable_variables)) #학습을 진행\n",
        "    \n",
        "    train_loss.update_state(loss_value) \n",
        "    train_accuracy.update_state(y_train, tf.cast(predictions > 0.5, dtype=tf.int32))\n",
        "\n",
        "    predictions = model(x_test) #모델에 해당 이미지를 입력하여 prediction한 값을 구합니다\n",
        "    loss_value = loss(y_test, predictions) #loss는 예측한 값과 정답을 가지고 구합니다.\n",
        "    test_loss.update_state(loss_value)\n",
        "    test_accuracy.update_state(y_test, tf.cast(predictions > 0.5, dtype=tf.int32))#정확도 측정\n",
        "\n",
        "    print('epoch: {}/{}, train loss: {:.4f}, train accuracy: {:.4f}, test loss: {:.4f}, test accuracy: {:.4f}'.format(\n",
        "        epoch_index + 1, epochs, train_loss.result().numpy(), train_accuracy.result().numpy(), test_loss.result().numpy(), test_accuracy.result().numpy()))\n",
        "    train_loss.reset_states() #다음 통계을 보기 위해 모두 초기화 합니다\n",
        "    train_accuracy.reset_states()\n",
        "    test_loss.reset_states()\n",
        "    test_accuracy.reset_states()"
      ],
      "execution_count": null,
      "outputs": [
        {
          "output_type": "stream",
          "text": [
            "epoch: 1/50, train loss: 0.6939, train accuracy: 0.5650, test loss: 0.6918, test accuracy: 0.5700\n",
            "epoch: 2/50, train loss: 0.6880, train accuracy: 0.5700, test loss: 0.6880, test accuracy: 0.5750\n",
            "epoch: 3/50, train loss: 0.6824, train accuracy: 0.5750, test loss: 0.6843, test accuracy: 0.6000\n",
            "epoch: 4/50, train loss: 0.6770, train accuracy: 0.6000, test loss: 0.6809, test accuracy: 0.6250\n",
            "epoch: 5/50, train loss: 0.6718, train accuracy: 0.6250, test loss: 0.6776, test accuracy: 0.6300\n",
            "epoch: 6/50, train loss: 0.6667, train accuracy: 0.6450, test loss: 0.6747, test accuracy: 0.6250\n",
            "epoch: 7/50, train loss: 0.6619, train accuracy: 0.6500, test loss: 0.6718, test accuracy: 0.6200\n",
            "epoch: 8/50, train loss: 0.6574, train accuracy: 0.6500, test loss: 0.6691, test accuracy: 0.6150\n",
            "epoch: 9/50, train loss: 0.6530, train accuracy: 0.6500, test loss: 0.6665, test accuracy: 0.6250\n",
            "epoch: 10/50, train loss: 0.6488, train accuracy: 0.6500, test loss: 0.6639, test accuracy: 0.6150\n",
            "epoch: 11/50, train loss: 0.6448, train accuracy: 0.6500, test loss: 0.6614, test accuracy: 0.6200\n",
            "epoch: 12/50, train loss: 0.6411, train accuracy: 0.6600, test loss: 0.6589, test accuracy: 0.6150\n",
            "epoch: 13/50, train loss: 0.6375, train accuracy: 0.6650, test loss: 0.6564, test accuracy: 0.6200\n",
            "epoch: 14/50, train loss: 0.6339, train accuracy: 0.6800, test loss: 0.6541, test accuracy: 0.6350\n",
            "epoch: 15/50, train loss: 0.6304, train accuracy: 0.7000, test loss: 0.6517, test accuracy: 0.6500\n",
            "epoch: 16/50, train loss: 0.6270, train accuracy: 0.7000, test loss: 0.6494, test accuracy: 0.6500\n",
            "epoch: 17/50, train loss: 0.6238, train accuracy: 0.7100, test loss: 0.6472, test accuracy: 0.6500\n",
            "epoch: 18/50, train loss: 0.6206, train accuracy: 0.7000, test loss: 0.6449, test accuracy: 0.6600\n",
            "epoch: 19/50, train loss: 0.6175, train accuracy: 0.7100, test loss: 0.6427, test accuracy: 0.6600\n",
            "epoch: 20/50, train loss: 0.6144, train accuracy: 0.7250, test loss: 0.6404, test accuracy: 0.6600\n",
            "epoch: 21/50, train loss: 0.6113, train accuracy: 0.7350, test loss: 0.6381, test accuracy: 0.6750\n",
            "epoch: 22/50, train loss: 0.6083, train accuracy: 0.7350, test loss: 0.6358, test accuracy: 0.6750\n",
            "epoch: 23/50, train loss: 0.6054, train accuracy: 0.7450, test loss: 0.6336, test accuracy: 0.6850\n",
            "epoch: 24/50, train loss: 0.6026, train accuracy: 0.7500, test loss: 0.6314, test accuracy: 0.6850\n",
            "epoch: 25/50, train loss: 0.5998, train accuracy: 0.7500, test loss: 0.6292, test accuracy: 0.6800\n",
            "epoch: 26/50, train loss: 0.5971, train accuracy: 0.7650, test loss: 0.6270, test accuracy: 0.6800\n",
            "epoch: 27/50, train loss: 0.5944, train accuracy: 0.7750, test loss: 0.6248, test accuracy: 0.6900\n",
            "epoch: 28/50, train loss: 0.5916, train accuracy: 0.7850, test loss: 0.6227, test accuracy: 0.6900\n",
            "epoch: 29/50, train loss: 0.5889, train accuracy: 0.7850, test loss: 0.6205, test accuracy: 0.6900\n",
            "epoch: 30/50, train loss: 0.5863, train accuracy: 0.7850, test loss: 0.6184, test accuracy: 0.6950\n",
            "epoch: 31/50, train loss: 0.5836, train accuracy: 0.7950, test loss: 0.6163, test accuracy: 0.6950\n",
            "epoch: 32/50, train loss: 0.5810, train accuracy: 0.7950, test loss: 0.6142, test accuracy: 0.7050\n",
            "epoch: 33/50, train loss: 0.5783, train accuracy: 0.8000, test loss: 0.6120, test accuracy: 0.7100\n",
            "epoch: 34/50, train loss: 0.5758, train accuracy: 0.8100, test loss: 0.6099, test accuracy: 0.7200\n",
            "epoch: 35/50, train loss: 0.5732, train accuracy: 0.8100, test loss: 0.6079, test accuracy: 0.7200\n",
            "epoch: 36/50, train loss: 0.5707, train accuracy: 0.8100, test loss: 0.6058, test accuracy: 0.7200\n",
            "epoch: 37/50, train loss: 0.5682, train accuracy: 0.8100, test loss: 0.6038, test accuracy: 0.7200\n",
            "epoch: 38/50, train loss: 0.5658, train accuracy: 0.8150, test loss: 0.6017, test accuracy: 0.7200\n",
            "epoch: 39/50, train loss: 0.5634, train accuracy: 0.8150, test loss: 0.5998, test accuracy: 0.7250\n",
            "epoch: 40/50, train loss: 0.5610, train accuracy: 0.8150, test loss: 0.5978, test accuracy: 0.7250\n",
            "epoch: 41/50, train loss: 0.5586, train accuracy: 0.8150, test loss: 0.5959, test accuracy: 0.7300\n",
            "epoch: 42/50, train loss: 0.5562, train accuracy: 0.8150, test loss: 0.5939, test accuracy: 0.7300\n",
            "epoch: 43/50, train loss: 0.5539, train accuracy: 0.8200, test loss: 0.5920, test accuracy: 0.7300\n",
            "epoch: 44/50, train loss: 0.5515, train accuracy: 0.8200, test loss: 0.5902, test accuracy: 0.7400\n",
            "epoch: 45/50, train loss: 0.5491, train accuracy: 0.8200, test loss: 0.5883, test accuracy: 0.7450\n",
            "epoch: 46/50, train loss: 0.5468, train accuracy: 0.8200, test loss: 0.5864, test accuracy: 0.7450\n",
            "epoch: 47/50, train loss: 0.5445, train accuracy: 0.8250, test loss: 0.5846, test accuracy: 0.7450\n",
            "epoch: 48/50, train loss: 0.5421, train accuracy: 0.8250, test loss: 0.5827, test accuracy: 0.7450\n",
            "epoch: 49/50, train loss: 0.5398, train accuracy: 0.8300, test loss: 0.5809, test accuracy: 0.7400\n",
            "epoch: 50/50, train loss: 0.5375, train accuracy: 0.8300, test loss: 0.5791, test accuracy: 0.7400\n"
          ],
          "name": "stdout"
        }
      ]
    },
    {
      "cell_type": "markdown",
      "metadata": {
        "id": "ZIIiOoJWcTKO"
      },
      "source": [
        "학습된 모델에 샘플 데이터를 넣어보겠습니다."
      ]
    },
    {
      "cell_type": "code",
      "metadata": {
        "colab": {
          "base_uri": "https://localhost:8080/",
          "height": 321
        },
        "id": "UsV08xr6XbIL",
        "outputId": "9b72076e-56eb-4532-86da-18440036b0f8"
      },
      "source": [
        "sample_num=4 #넣어보고 싶은 sample data의 번호\n",
        "\n",
        "pred=model(x_test[sample_num:sample_num+1]) #모델에 이미지를 입력\n",
        "sample=x_test[sample_num].reshape((28,28)) #샘플을 이미지로 출력가능하게 변형\n",
        "\n",
        "plt.imshow(sample) #이미지를 보여줌\n",
        "print('모델이 예측한 것은 %s입니다'%( pred>0.5 and '홀수' or'짝수') ) #0.5출력 값이 0.5를 넘으면(=홀수라는 확신이 50%이상이면) 홀수\n",
        "print(y_test[sample_num])\n",
        "print('정답은 %s입니다'%( y_test[sample_num]==1 and '홀수' or'짝수') )"
      ],
      "execution_count": null,
      "outputs": [
        {
          "output_type": "stream",
          "text": [
            "모델이 예측한 것은 짝수입니다\n",
            "[0]\n",
            "정답은 짝수입니다\n"
          ],
          "name": "stdout"
        },
        {
          "output_type": "display_data",
          "data": {
            "image/png": "[encoded data removed]",
            "text/plain": [
              "<Figure size 432x288 with 1 Axes>"
            ]
          },
          "metadata": {
            "tags": [],
            "needs_background": "light"
          }
        }
      ]
    }
  ]
}